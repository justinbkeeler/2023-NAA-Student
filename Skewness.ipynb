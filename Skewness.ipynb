{
  "nbformat": 4,
  "nbformat_minor": 0,
  "metadata": {
    "colab": {
      "provenance": [],
      "authorship_tag": "ABX9TyMEiI8p6VvanlvTv2oQ20dV",
      "include_colab_link": true
    },
    "kernelspec": {
      "name": "python3",
      "display_name": "Python 3"
    },
    "language_info": {
      "name": "python"
    }
  },
  "cells": [
    {
      "cell_type": "markdown",
      "metadata": {
        "id": "view-in-github",
        "colab_type": "text"
      },
      "source": [
        "<a href=\"https://colab.research.google.com/github/justinbkeeler/2023-NAA-Student/blob/main/Skewness.ipynb\" target=\"_parent\"><img src=\"https://colab.research.google.com/assets/colab-badge.svg\" alt=\"Open In Colab\"/></a>"
      ]
    },
    {
      "cell_type": "code",
      "execution_count": 1,
      "metadata": {
        "id": "XgUadQcc-EPy"
      },
      "outputs": [],
      "source": [
        "import pandas as pd"
      ]
    },
    {
      "cell_type": "code",
      "source": [
        "df = pd.read_csv(\"https://raw.githubusercontent.com/justinbkeeler/Datasets/main/titanic.csv\")"
      ],
      "metadata": {
        "id": "zDBnIvqG-F3R"
      },
      "execution_count": 2,
      "outputs": []
    },
    {
      "cell_type": "code",
      "source": [
        "# Select only the numeric columns\n",
        "numeric_columns = df.select_dtypes(include=['number'])\n",
        "\n",
        "# Calculate skewness for the numeric columns\n",
        "skewness = numeric_columns.skew()\n",
        "\n",
        "# Define skewness ranges and print the skewness values with their categories\n",
        "for column, skew_value in skewness.items():\n",
        "    if abs(skew_value) < 0.5:\n",
        "        skew_category = \"Low skewness\"\n",
        "    elif 0.5 <= abs(skew_value) < 1:\n",
        "        skew_category = \"Moderate skewness\"\n",
        "    else:\n",
        "        skew_category = \"High skewness\"\n",
        "\n",
        "    print(f\"{column}: Skewness = {skew_value:.2f} ({skew_category})\")\n",
        "\n",
        "# Print skewness range references\n",
        "print(\"\\nSkewness Ranges:\")\n",
        "print(\"Low skewness:      -0.5 to 0.5\")\n",
        "print(\"Moderate skewness: -0.5 to -1 or 0.5 to 1\")\n",
        "print(\"High skewness:     < -1 or > 1\")"
      ],
      "metadata": {
        "colab": {
          "base_uri": "https://localhost:8080/"
        },
        "id": "dVPfF_Vq-NCS",
        "outputId": "c1dc978c-12cc-4aa3-80b4-5dbe4ea030c7"
      },
      "execution_count": 14,
      "outputs": [
        {
          "output_type": "stream",
          "name": "stdout",
          "text": [
            "PassengerId: Skewness = 0.00 (Low skewness)\n",
            "Survived: Skewness = 0.48 (Low skewness)\n",
            "Pclass: Skewness = -0.63 (Moderate skewness)\n",
            "Age: Skewness = 0.39 (Low skewness)\n",
            "SibSp: Skewness = 3.70 (High skewness)\n",
            "Parch: Skewness = 2.75 (High skewness)\n",
            "Fare: Skewness = 4.79 (High skewness)\n",
            "\n",
            "Skewness Ranges:\n",
            "Low skewness:      -0.5 to 0.5\n",
            "Moderate skewness: -0.5 to -1 or 0.5 to 1\n",
            "High skewness:     < -1 or > 1\n"
          ]
        }
      ]
    },
    {
      "cell_type": "code",
      "source": [],
      "metadata": {
        "id": "L3byAFCQ-Slh"
      },
      "execution_count": null,
      "outputs": []
    }
  ]
}