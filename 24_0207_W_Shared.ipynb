{
  "nbformat": 4,
  "nbformat_minor": 0,
  "metadata": {
    "colab": {
      "provenance": [],
      "include_colab_link": true
    },
    "kernelspec": {
      "name": "python3",
      "display_name": "Python 3"
    },
    "language_info": {
      "name": "python"
    }
  },
  "cells": [
    {
      "cell_type": "markdown",
      "metadata": {
        "id": "view-in-github",
        "colab_type": "text"
      },
      "source": [
        "<a href=\"https://colab.research.google.com/github/justinbkeeler/2023-NAA-Student/blob/main/24_0207_W_Shared.ipynb\" target=\"_parent\"><img src=\"https://colab.research.google.com/assets/colab-badge.svg\" alt=\"Open In Colab\"/></a>"
      ]
    },
    {
      "cell_type": "markdown",
      "source": [
        "# Sayed Hassan"
      ],
      "metadata": {
        "id": "OzgbNSmwcwXw"
      }
    },
    {
      "cell_type": "code",
      "execution_count": 17,
      "metadata": {
        "id": "5REbJAHqcBBR",
        "colab": {
          "base_uri": "https://localhost:8080/"
        },
        "outputId": "b1a1f089-8430-4f66-faf4-807a7adf9138"
      },
      "outputs": [
        {
          "output_type": "stream",
          "name": "stdout",
          "text": [
            "Enter Semester: 5\n",
            "Minimum payment:100\n",
            "Maximum payment:250\n",
            "\n",
            "Semester Total Semester    Maximum Payment     Minimum Payment\n",
            "1750       5 250.0 100.0\n"
          ]
        }
      ],
      "source": [
        "# generate college semester payment\n",
        "\n",
        "semester = int(input('Enter Semester: '))\n",
        "\n",
        "Minpayment = float(input('Minimum payment:'))\n",
        "Maxpayment = float(input('Maximum payment:'))\n",
        "\n",
        "\n",
        "semesterpayment = (semester*(Maxpayment+Minpayment))\n",
        "print()\n",
        "print('Semester Total', 'Semester', '   Maximum Payment', '    Minimum Payment')\n",
        "print(format(semesterpayment,'1.0f'), format(semester,'7.0f'), Maxpayment, Minpayment)\n",
        "\n",
        "\n",
        "\n",
        "\n",
        "\n",
        "\n"
      ]
    },
    {
      "cell_type": "code",
      "source": [
        "#Shashidhar Reddy\n",
        "# Initialize variables for tracking the highest and lowest scores\n",
        "highest_score = None\n",
        "lowest_score = None\n",
        "score_count = 0\n",
        "total_scores = 0\n",
        "\n",
        "print(\"Enter scores one by one. Type 'done' when finished.\")\n",
        "\n",
        "# Start a loop to accept scores from the user\n",
        "while True:\n",
        "    input_str = input(\"Enter a score (or 'done' to finish): \")\n",
        "\n",
        "    # Check if the user wishes to finish inputting scores\n",
        "    if input_str.lower() == 'done':\n",
        "        break\n",
        "\n",
        "    # Attempt to convert the input to a numeric score\n",
        "    try:\n",
        "        score = float(input_str)\n",
        "        score_count += 1\n",
        "        total_scores += score\n",
        "\n",
        "        # Update highest and lowest scores based on the input\n",
        "        if highest_score is None or score > highest_score:\n",
        "            highest_score = score\n",
        "        if lowest_score is None or score < lowest_score:\n",
        "            lowest_score = score\n",
        "\n",
        "    except ValueError:\n",
        "        print(\"Please enter a valid number or 'done' to finish.\")\n",
        "\n",
        "# Calculate the average score if any scores were entered\n",
        "if score_count > 0:\n",
        "    average_score = total_scores / score_count\n",
        "    print(f\"\\nHighest score: {highest_score}\")\n",
        "    print(f\"Lowest score: {lowest_score}\")\n",
        "    print(f\"Average score: {average_score:.2f}\")\n",
        "    print(f\"Total number of scores: {score_count}\")\n",
        "else:\n",
        "    print(\"No scores were entered.\")\n"
      ],
      "metadata": {
        "id": "IAdqsml_npec",
        "outputId": "7b216336-197e-4ee1-c7cf-5603c22e02a0",
        "colab": {
          "base_uri": "https://localhost:8080/"
        }
      },
      "execution_count": null,
      "outputs": [
        {
          "output_type": "stream",
          "name": "stdout",
          "text": [
            "Enter scores one by one. Type 'done' when finished.\n"
          ]
        }
      ]
    },
    {
      "cell_type": "code",
      "source": [
        " ##bharath rasamadugu\n",
        " # Using while repetition and special end value, generate BMI scenarios\n",
        " # includes use of break statement to end looping\n",
        "\n",
        " # get input height (common for all calculations)\n",
        " height = float(input('Enter height (inches): '))\n",
        "\n",
        " # get initial weight to calculate with\n",
        " weight = float(input('Enter weight (pounds): '))\n",
        "\n",
        " # repeat calculating as long as entered weight is non-zero\n",
        " while True:\n",
        "  if weight == 0:\n",
        "    break\n",
        "\n",
        "  bmi = weight / height**2 * 703\n",
        "  print('BMI = ', round(bmi, 1))\n",
        "\n",
        "  weight = float(input('\\nEnter weight goal (or 0 to end): '))\n",
        "\n",
        "print('Program ends')"
      ],
      "metadata": {
        "colab": {
          "base_uri": "https://localhost:8080/"
        },
        "id": "0R-Pop4NsQdy",
        "outputId": "fb9d83b6-dcfc-45e7-e573-2d9f88c60805"
      },
      "execution_count": null,
      "outputs": [
        {
          "output_type": "stream",
          "name": "stdout",
          "text": [
            "Enter height (inches): 68\n",
            "Enter weight (pounds): 150\n",
            "BMI =  22.8\n",
            "\n",
            "Enter weight goal (or 0 to end): 140\n",
            "BMI =  21.3\n",
            "\n",
            "Enter weight goal (or 0 to end): 0\n",
            "Program ends\n"
          ]
        }
      ]
    },
    {
      "cell_type": "code",
      "source": [],
      "metadata": {
        "id": "UL5GHLxPs_Gd"
      },
      "execution_count": null,
      "outputs": []
    }
  ]
}