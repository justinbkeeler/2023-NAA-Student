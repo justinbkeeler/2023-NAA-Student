{
  "nbformat": 4,
  "nbformat_minor": 0,
  "metadata": {
    "colab": {
      "provenance": [],
      "toc_visible": true,
      "include_colab_link": true
    },
    "kernelspec": {
      "name": "python3",
      "display_name": "Python 3"
    },
    "language_info": {
      "name": "python"
    }
  },
  "cells": [
    {
      "cell_type": "markdown",
      "metadata": {
        "id": "view-in-github",
        "colab_type": "text"
      },
      "source": [
        "<a href=\"https://colab.research.google.com/github/justinbkeeler/2023-NAA-Student/blob/main/23-0713%20-%20THUR%20-%20Data%20Visualization/Workshop%20%232/2023_NAA_Camp_Sentiment_Analysis.ipynb\" target=\"_parent\"><img src=\"https://colab.research.google.com/assets/colab-badge.svg\" alt=\"Open In Colab\"/></a>"
      ]
    },
    {
      "cell_type": "markdown",
      "metadata": {
        "id": "CsXgLD91LI7U"
      },
      "source": [
        "# Sentiment Analysis\n",
        "\n",
        "Resource 1: https://www.thepythoncode.com/article/vaderSentiment-tool-to-extract-sentimental-values-in-texts-using-python\n",
        "\n",
        "Resource 2: https://www.analyticsvidhya.com/blog/2021/01/sentiment-analysis-vader-or-textblob/"
      ]
    },
    {
      "cell_type": "markdown",
      "source": [
        "**Polarity:** This refers to the extent to which a piece of text is positive, negative, or neutral. In other words, it's a measure of the sentiment orientation. For example, \"I love this product!\" would have a positive polarity, while \"I hate this product!\" would have a negative polarity. Many sentiment analysis methods assign polarity values on a scale, typically from -1 (very negative) to 1 (very positive), with 0 representing neutral sentiment.\n",
        "\n",
        "**Subjectivity:** This refers to the extent to which a piece of text expresses personal opinions, beliefs, judgments, feelings, or evaluations, as opposed to stating factual information. A subjective statement might be something like, \"I think this is the best product on the market.\" An objective statement (subjectivity close to 0), on the other hand, could be something like, \"This product weighs two pounds.\" The subjectivity is usually a measure between 0 (very objective) and 1 (very subjective)."
      ],
      "metadata": {
        "id": "j786LEzjI4rg"
      }
    },
    {
      "cell_type": "markdown",
      "source": [
        "## Lexicon rule-based vs. Machine Learning techniques"
      ],
      "metadata": {
        "id": "HwEU7OnKRW1I"
      }
    },
    {
      "cell_type": "markdown",
      "source": [
        "  Lexicon and Rule-based Sentiment Analysis: This method uses a predefined list of words (lexicon) each associated with a sentiment score (positive or negative). The text is analyzed word by word and a final sentiment score is computed based on the scores of individual words and some syntactic rules. For example, the word 'good' may have a positive score, but 'not good' would be considered negative due to the rule that handles negations. This method works well when the text closely aligns with the lexicon and rules defined. However, it can fail with complex language structures, sarcasm, or context-specific sentiment.\n",
        "\n",
        "  Machine Learning-based Sentiment Analysis: This method uses machine learning algorithms to classify text into various sentiments. It involves training a model on a large amount of labeled data (text with associated sentiment) and then using this model to predict the sentiment of new, unseen text. It can handle complex language structures and context-specific sentiment better than rule-based methods, as it can learn these from the training data. The downside is the requirement of large amounts of labeled data, and the complexity involved in training and tuning the model."
      ],
      "metadata": {
        "id": "E5JUgZIsRlNc"
      }
    },
    {
      "cell_type": "markdown",
      "source": [
        "## VADER"
      ],
      "metadata": {
        "id": "-BU7Mc9iPrUt"
      }
    },
    {
      "cell_type": "markdown",
      "source": [
        "<font color='red'>NOTE: VADER does not have the ability to provide subjectivity, only polarity. See TextBlob to get subjectivity.</font>\n"
      ],
      "metadata": {
        "id": "IT4WiLG1SF6K"
      }
    },
    {
      "cell_type": "markdown",
      "source": [
        "VADER (Valence Aware Dictionary and sEntiment Reasoner) is a lexicon and rule-based sentiment analysis tool specifically created for social media content, but it works quite well on many types of text. It uses a combination of a sentiment lexicon, grammatical and syntactical rules to predict the sentiment of text. Here's a basic idea of how polarity scores are computed:\n",
        "\n",
        " Lexicon Score: VADER has a lexicon (a dictionary of words) where each word has been assigned a sentiment score (positive or negative) from -4 to 4 based on human-annotated data. For example, words like 'love' have positive scores, and 'hate' has a negative score. Neutral words like 'and' or 'the' have a score of 0.\n",
        "\n",
        "Contextual and Syntactical Adjustment: The basic sentiment score from lexicon is adjusted based on the context. For example, words like \"not\" before a word can flip the sentiment of that word. Intensity is considered as well (e.g., \"good\" vs. \"extremely good\"). It also considers punctuation such as exclamation marks, and emoticons or emojis, which are common in social media.\n",
        "\n",
        "Aggregation: VADER then aggregates these scores and produces the final scores: positive, negative, neutral, and compound. The 'compound' score is a normalised score of all of the lexicon ratings which have been standardised to range between -1 and 1."
      ],
      "metadata": {
        "id": "hWEBnWUyQDtV"
      }
    },
    {
      "cell_type": "markdown",
      "source": [
        "### Option 1: Sentences in an array (aka a \"list\" data structure)"
      ],
      "metadata": {
        "id": "7OKytjmdOFAZ"
      }
    },
    {
      "cell_type": "code",
      "source": [
        "# Install vader libary to cloud server\n",
        "!pip install vaderSentiment"
      ],
      "metadata": {
        "colab": {
          "base_uri": "https://localhost:8080/"
        },
        "id": "UX2weQSTMuyc",
        "outputId": "d4cf1812-63ca-4f98-d96a-9134468a36ca"
      },
      "execution_count": null,
      "outputs": [
        {
          "output_type": "stream",
          "name": "stdout",
          "text": [
            "Requirement already satisfied: vaderSentiment in /usr/local/lib/python3.10/dist-packages (3.3.2)\n",
            "Requirement already satisfied: requests in /usr/local/lib/python3.10/dist-packages (from vaderSentiment) (2.27.1)\n",
            "Requirement already satisfied: urllib3<1.27,>=1.21.1 in /usr/local/lib/python3.10/dist-packages (from requests->vaderSentiment) (1.26.16)\n",
            "Requirement already satisfied: certifi>=2017.4.17 in /usr/local/lib/python3.10/dist-packages (from requests->vaderSentiment) (2023.5.7)\n",
            "Requirement already satisfied: charset-normalizer~=2.0.0 in /usr/local/lib/python3.10/dist-packages (from requests->vaderSentiment) (2.0.12)\n",
            "Requirement already satisfied: idna<4,>=2.5 in /usr/local/lib/python3.10/dist-packages (from requests->vaderSentiment) (3.4)\n"
          ]
        }
      ]
    },
    {
      "cell_type": "code",
      "source": [
        "# Load library\n",
        "from vaderSentiment.vaderSentiment import SentimentIntensityAnalyzer"
      ],
      "metadata": {
        "id": "SJPFalm7M-bz"
      },
      "execution_count": null,
      "outputs": []
    },
    {
      "cell_type": "code",
      "source": [
        "# Initialize the SentimentIntensityAnalyzer by pointing to the sia object\n",
        "sia = SentimentIntensityAnalyzer()"
      ],
      "metadata": {
        "id": "AvmO_ko1NG1W"
      },
      "execution_count": null,
      "outputs": []
    },
    {
      "cell_type": "code",
      "source": [
        "sentences = [\n",
        "    \"Clear and constructive feedbacks to students\",\n",
        "    \"Approachability\",\n",
        "    \"Industry experience, relatability, ability to foster a environment that encourages sharing and discussion\",\n",
        "    \"Easy classroom feels - I feel comfortable asking questions and feel listened to. I like how you ask us questions so we can participate\",\n",
        "    \"Cares about the subject, interesting\",\n",
        "    \"He replies to our messages REALLY fast! This is awesome. He understands our need and makes all he can to accommodate us.\",\n",
        "    \"Personable and relatable\",\n",
        "    \"care for students\",\n",
        "    \"Very responsive outside of class!\",\n",
        "    \"Industry knowledge\",\n",
        "    \"Communication, flexibility, consideration\",\n",
        "    \"Very personable. Lots of anecdotes and examples to help convey lessons taught.\",\n",
        "    \"Data knowledge, Presentation and flexibility with students over timing, Availability.\",\n",
        "    \"Instructor is engaging. I put off taking this class till my final semester because I heard the prior professor was boring. I was happy to find out that data viz is a lot more fun and useful than I had previously thought.\",\n",
        "    \"down to earth, knowledge of topic at hand\",\n",
        "    \"Interactive, understanding, great storyteller, and very knowledgeable\",\n",
        "    \"Power points are great and exercises were comprehensive\",\n",
        "    \"Entertaining and knowledgable\",\n",
        "    \"his expertise in the content and helping attitude.\",\n",
        "    \"Knowledge of the subject matter\"\n",
        "]"
      ],
      "metadata": {
        "id": "yGCUXgPONZcG"
      },
      "execution_count": null,
      "outputs": []
    },
    {
      "cell_type": "code",
      "source": [
        "for sentence in sentences:\n",
        "    score = sia.polarity_scores(sentence)[\"compound\"]\n",
        "    print(f'The sentiment value of the sentence :\"{sentence}\" is : {score}')"
      ],
      "metadata": {
        "colab": {
          "base_uri": "https://localhost:8080/"
        },
        "id": "fOr1vW1zNgEz",
        "outputId": "88577a8d-ad5e-49de-aebd-e31779af24de"
      },
      "execution_count": null,
      "outputs": [
        {
          "output_type": "stream",
          "name": "stdout",
          "text": [
            "The sentiment value of the sentence :\"Clear and constructive feedbacks to students\" is : 0.3818\n",
            "The sentiment value of the sentence :\"Approachability\" is : 0.0\n",
            "The sentiment value of the sentence :\"Industry experience, relatability, ability to foster a environment that encourages sharing and discussion\" is : 0.7906\n",
            "The sentiment value of the sentence :\"Easy classroom feels - I feel comfortable asking questions and feel listened to. I like how you ask us questions so we can participate\" is : 0.8271\n",
            "The sentiment value of the sentence :\"Cares about the subject, interesting\" is : 0.6908\n",
            "The sentiment value of the sentence :\"He replies to our messages REALLY fast! This is awesome. He understands our need and makes all he can to accommodate us.\" is : 0.6588\n",
            "The sentiment value of the sentence :\"Personable and relatable\" is : 0.0\n",
            "The sentiment value of the sentence :\"care for students\" is : 0.4939\n",
            "The sentiment value of the sentence :\"Very responsive outside of class!\" is : 0.474\n",
            "The sentiment value of the sentence :\"Industry knowledge\" is : 0.0\n",
            "The sentiment value of the sentence :\"Communication, flexibility, consideration\" is : 0.34\n",
            "The sentiment value of the sentence :\"Very personable. Lots of anecdotes and examples to help convey lessons taught.\" is : 0.4019\n",
            "The sentiment value of the sentence :\"Data knowledge, Presentation and flexibility with students over timing, Availability.\" is : 0.34\n",
            "The sentiment value of the sentence :\"Instructor is engaging. I put off taking this class till my final semester because I heard the prior professor was boring. I was happy to find out that data viz is a lot more fun and useful than I had previously thought.\" is : 0.8899\n",
            "The sentiment value of the sentence :\"down to earth, knowledge of topic at hand\" is : 0.4939\n",
            "The sentiment value of the sentence :\"Interactive, understanding, great storyteller, and very knowledgeable\" is : 0.6249\n",
            "The sentiment value of the sentence :\"Power points are great and exercises were comprehensive\" is : 0.7269\n",
            "The sentiment value of the sentence :\"Entertaining and knowledgable\" is : 0.4404\n",
            "The sentiment value of the sentence :\"his expertise in the content and helping attitude.\" is : 0.296\n",
            "The sentiment value of the sentence :\"Knowledge of the subject matter\" is : 0.0258\n"
          ]
        }
      ]
    },
    {
      "cell_type": "code",
      "source": [
        "for sentence in sentences:\n",
        "    print(f'For the sentence \"{sentence}\"')\n",
        "    polarity = sia.polarity_scores(sentence)\n",
        "    pos = polarity[\"pos\"]\n",
        "    neu = polarity[\"neu\"]\n",
        "    neg = polarity[\"neg\"]\n",
        "    print(f'The percentage of positive sentiment in :\"{sentence}\" is : {round(pos*100,2)} %')\n",
        "    print(f'The percentage of neutral sentiment in :\"{sentence}\" is : {round(neu*100,2)} %')\n",
        "    print(f'The percentage of negative sentiment in :\"{sentence}\" is : {round(neg*100,2)} %')\n",
        "    print(\"=\"*50)"
      ],
      "metadata": {
        "colab": {
          "base_uri": "https://localhost:8080/"
        },
        "id": "IFP0GDx4NvV7",
        "outputId": "c03a80cd-e516-4036-ac80-c4809d172782"
      },
      "execution_count": null,
      "outputs": [
        {
          "output_type": "stream",
          "name": "stdout",
          "text": [
            "For the sentence \"Clear and constructive feedbacks to students\"\n",
            "The percentage of positive sentiment in :\"Clear and constructive feedbacks to students\" is : 34.2 %\n",
            "The percentage of neutral sentiment in :\"Clear and constructive feedbacks to students\" is : 65.8 %\n",
            "The percentage of negative sentiment in :\"Clear and constructive feedbacks to students\" is : 0.0 %\n",
            "==================================================\n",
            "For the sentence \"Approachability\"\n",
            "The percentage of positive sentiment in :\"Approachability\" is : 0.0 %\n",
            "The percentage of neutral sentiment in :\"Approachability\" is : 100.0 %\n",
            "The percentage of negative sentiment in :\"Approachability\" is : 0.0 %\n",
            "==================================================\n",
            "For the sentence \"Industry experience, relatability, ability to foster a environment that encourages sharing and discussion\"\n",
            "The percentage of positive sentiment in :\"Industry experience, relatability, ability to foster a environment that encourages sharing and discussion\" is : 44.4 %\n",
            "The percentage of neutral sentiment in :\"Industry experience, relatability, ability to foster a environment that encourages sharing and discussion\" is : 55.6 %\n",
            "The percentage of negative sentiment in :\"Industry experience, relatability, ability to foster a environment that encourages sharing and discussion\" is : 0.0 %\n",
            "==================================================\n",
            "For the sentence \"Easy classroom feels - I feel comfortable asking questions and feel listened to. I like how you ask us questions so we can participate\"\n",
            "The percentage of positive sentiment in :\"Easy classroom feels - I feel comfortable asking questions and feel listened to. I like how you ask us questions so we can participate\" is : 29.3 %\n",
            "The percentage of neutral sentiment in :\"Easy classroom feels - I feel comfortable asking questions and feel listened to. I like how you ask us questions so we can participate\" is : 70.7 %\n",
            "The percentage of negative sentiment in :\"Easy classroom feels - I feel comfortable asking questions and feel listened to. I like how you ask us questions so we can participate\" is : 0.0 %\n",
            "==================================================\n",
            "For the sentence \"Cares about the subject, interesting\"\n",
            "The percentage of positive sentiment in :\"Cares about the subject, interesting\" is : 65.5 %\n",
            "The percentage of neutral sentiment in :\"Cares about the subject, interesting\" is : 34.5 %\n",
            "The percentage of negative sentiment in :\"Cares about the subject, interesting\" is : 0.0 %\n",
            "==================================================\n",
            "For the sentence \"He replies to our messages REALLY fast! This is awesome. He understands our need and makes all he can to accommodate us.\"\n",
            "The percentage of positive sentiment in :\"He replies to our messages REALLY fast! This is awesome. He understands our need and makes all he can to accommodate us.\" is : 17.3 %\n",
            "The percentage of neutral sentiment in :\"He replies to our messages REALLY fast! This is awesome. He understands our need and makes all he can to accommodate us.\" is : 82.7 %\n",
            "The percentage of negative sentiment in :\"He replies to our messages REALLY fast! This is awesome. He understands our need and makes all he can to accommodate us.\" is : 0.0 %\n",
            "==================================================\n",
            "For the sentence \"Personable and relatable\"\n",
            "The percentage of positive sentiment in :\"Personable and relatable\" is : 0.0 %\n",
            "The percentage of neutral sentiment in :\"Personable and relatable\" is : 100.0 %\n",
            "The percentage of negative sentiment in :\"Personable and relatable\" is : 0.0 %\n",
            "==================================================\n",
            "For the sentence \"care for students\"\n",
            "The percentage of positive sentiment in :\"care for students\" is : 61.5 %\n",
            "The percentage of neutral sentiment in :\"care for students\" is : 38.5 %\n",
            "The percentage of negative sentiment in :\"care for students\" is : 0.0 %\n",
            "==================================================\n",
            "For the sentence \"Very responsive outside of class!\"\n",
            "The percentage of positive sentiment in :\"Very responsive outside of class!\" is : 43.5 %\n",
            "The percentage of neutral sentiment in :\"Very responsive outside of class!\" is : 56.5 %\n",
            "The percentage of negative sentiment in :\"Very responsive outside of class!\" is : 0.0 %\n",
            "==================================================\n",
            "For the sentence \"Industry knowledge\"\n",
            "The percentage of positive sentiment in :\"Industry knowledge\" is : 0.0 %\n",
            "The percentage of neutral sentiment in :\"Industry knowledge\" is : 100.0 %\n",
            "The percentage of negative sentiment in :\"Industry knowledge\" is : 0.0 %\n",
            "==================================================\n",
            "For the sentence \"Communication, flexibility, consideration\"\n",
            "The percentage of positive sentiment in :\"Communication, flexibility, consideration\" is : 54.5 %\n",
            "The percentage of neutral sentiment in :\"Communication, flexibility, consideration\" is : 45.5 %\n",
            "The percentage of negative sentiment in :\"Communication, flexibility, consideration\" is : 0.0 %\n",
            "==================================================\n",
            "For the sentence \"Very personable. Lots of anecdotes and examples to help convey lessons taught.\"\n",
            "The percentage of positive sentiment in :\"Very personable. Lots of anecdotes and examples to help convey lessons taught.\" is : 19.7 %\n",
            "The percentage of neutral sentiment in :\"Very personable. Lots of anecdotes and examples to help convey lessons taught.\" is : 80.3 %\n",
            "The percentage of negative sentiment in :\"Very personable. Lots of anecdotes and examples to help convey lessons taught.\" is : 0.0 %\n",
            "==================================================\n",
            "For the sentence \"Data knowledge, Presentation and flexibility with students over timing, Availability.\"\n",
            "The percentage of positive sentiment in :\"Data knowledge, Presentation and flexibility with students over timing, Availability.\" is : 21.1 %\n",
            "The percentage of neutral sentiment in :\"Data knowledge, Presentation and flexibility with students over timing, Availability.\" is : 78.9 %\n",
            "The percentage of negative sentiment in :\"Data knowledge, Presentation and flexibility with students over timing, Availability.\" is : 0.0 %\n",
            "==================================================\n",
            "For the sentence \"Instructor is engaging. I put off taking this class till my final semester because I heard the prior professor was boring. I was happy to find out that data viz is a lot more fun and useful than I had previously thought.\"\n",
            "The percentage of positive sentiment in :\"Instructor is engaging. I put off taking this class till my final semester because I heard the prior professor was boring. I was happy to find out that data viz is a lot more fun and useful than I had previously thought.\" is : 24.7 %\n",
            "The percentage of neutral sentiment in :\"Instructor is engaging. I put off taking this class till my final semester because I heard the prior professor was boring. I was happy to find out that data viz is a lot more fun and useful than I had previously thought.\" is : 70.9 %\n",
            "The percentage of negative sentiment in :\"Instructor is engaging. I put off taking this class till my final semester because I heard the prior professor was boring. I was happy to find out that data viz is a lot more fun and useful than I had previously thought.\" is : 4.4 %\n",
            "==================================================\n",
            "For the sentence \"down to earth, knowledge of topic at hand\"\n",
            "The percentage of positive sentiment in :\"down to earth, knowledge of topic at hand\" is : 31.4 %\n",
            "The percentage of neutral sentiment in :\"down to earth, knowledge of topic at hand\" is : 68.6 %\n",
            "The percentage of negative sentiment in :\"down to earth, knowledge of topic at hand\" is : 0.0 %\n",
            "==================================================\n",
            "For the sentence \"Interactive, understanding, great storyteller, and very knowledgeable\"\n",
            "The percentage of positive sentiment in :\"Interactive, understanding, great storyteller, and very knowledgeable\" is : 40.6 %\n",
            "The percentage of neutral sentiment in :\"Interactive, understanding, great storyteller, and very knowledgeable\" is : 59.4 %\n",
            "The percentage of negative sentiment in :\"Interactive, understanding, great storyteller, and very knowledgeable\" is : 0.0 %\n",
            "==================================================\n",
            "For the sentence \"Power points are great and exercises were comprehensive\"\n",
            "The percentage of positive sentiment in :\"Power points are great and exercises were comprehensive\" is : 50.4 %\n",
            "The percentage of neutral sentiment in :\"Power points are great and exercises were comprehensive\" is : 49.6 %\n",
            "The percentage of negative sentiment in :\"Power points are great and exercises were comprehensive\" is : 0.0 %\n",
            "==================================================\n",
            "For the sentence \"Entertaining and knowledgable\"\n",
            "The percentage of positive sentiment in :\"Entertaining and knowledgable\" is : 59.2 %\n",
            "The percentage of neutral sentiment in :\"Entertaining and knowledgable\" is : 40.8 %\n",
            "The percentage of negative sentiment in :\"Entertaining and knowledgable\" is : 0.0 %\n",
            "==================================================\n",
            "For the sentence \"his expertise in the content and helping attitude.\"\n",
            "The percentage of positive sentiment in :\"his expertise in the content and helping attitude.\" is : 23.9 %\n",
            "The percentage of neutral sentiment in :\"his expertise in the content and helping attitude.\" is : 76.1 %\n",
            "The percentage of negative sentiment in :\"his expertise in the content and helping attitude.\" is : 0.0 %\n",
            "==================================================\n",
            "For the sentence \"Knowledge of the subject matter\"\n",
            "The percentage of positive sentiment in :\"Knowledge of the subject matter\" is : 21.6 %\n",
            "The percentage of neutral sentiment in :\"Knowledge of the subject matter\" is : 78.4 %\n",
            "The percentage of negative sentiment in :\"Knowledge of the subject matter\" is : 0.0 %\n",
            "==================================================\n"
          ]
        }
      ]
    },
    {
      "cell_type": "code",
      "source": [],
      "metadata": {
        "id": "HVoQwMdCONTm"
      },
      "execution_count": null,
      "outputs": []
    },
    {
      "cell_type": "markdown",
      "source": [
        "### Option 2: Sentences from a .csv data frame (imported)"
      ],
      "metadata": {
        "id": "jB2G9MUlON7K"
      }
    },
    {
      "cell_type": "code",
      "source": [
        "import pandas as pd\n",
        "import nltk\n",
        "from nltk.sentiment import SentimentIntensityAnalyzer\n",
        "sia = SentimentIntensityAnalyzer()"
      ],
      "metadata": {
        "id": "Wit5rW6wOg8V"
      },
      "execution_count": null,
      "outputs": []
    },
    {
      "cell_type": "code",
      "source": [
        "import pandas as pd"
      ],
      "metadata": {
        "id": "Yahslwn1O0pk"
      },
      "execution_count": null,
      "outputs": []
    },
    {
      "cell_type": "code",
      "source": [
        "url = \"https://raw.githubusercontent.com/justinbkeeler/2023-NAA-Student/main/23-0713%20-%20THUR%20-%20Data%20Visualization/Workshop%20%232/tcu8w1-q1.csv\""
      ],
      "metadata": {
        "id": "8AQVHWyhWLYW"
      },
      "execution_count": null,
      "outputs": []
    },
    {
      "cell_type": "code",
      "source": [
        "df = pd.read_csv(url)"
      ],
      "metadata": {
        "id": "2nf5yWIyXbSw"
      },
      "execution_count": null,
      "outputs": []
    },
    {
      "cell_type": "code",
      "source": [
        "df.head()"
      ],
      "metadata": {
        "colab": {
          "base_uri": "https://localhost:8080/",
          "height": 206
        },
        "id": "XVfCkmWxXwtN",
        "outputId": "b043e91e-92a1-4aa5-a7ae-b0c28ce9e550"
      },
      "execution_count": null,
      "outputs": [
        {
          "output_type": "execute_result",
          "data": {
            "text/plain": [
              "  Course             respID  Gender   Major  \\\n",
              "0  DV8W1  R_2V4HVjpRNeBqfEp  Female     MAc   \n",
              "1  DV8W1  R_1l4VqSkutvDiMTr    Male     MBA   \n",
              "2  DV8W1  R_bBi4hjtj0HppHR7    Male     MBA   \n",
              "3  DV8W1  R_7aGVw7TI2zRmdLr  Female     MAc   \n",
              "4  DV8W1  R_3kG5KKRLhKCnkdd  Female  MS-SCM   \n",
              "\n",
              "                                               Qual1  \n",
              "0       Clear and constructive feedbacks to students  \n",
              "1                                    Approachability  \n",
              "2  Industry experience, relatability, ability to ...  \n",
              "3  Easy classroom feels - I feel comfortable aski...  \n",
              "4               Cares about the subject, interesting  "
            ],
            "text/html": [
              "\n",
              "\n",
              "  <div id=\"df-6ff5424f-411c-48c8-bbd5-9df4d5d9c31d\">\n",
              "    <div class=\"colab-df-container\">\n",
              "      <div>\n",
              "<style scoped>\n",
              "    .dataframe tbody tr th:only-of-type {\n",
              "        vertical-align: middle;\n",
              "    }\n",
              "\n",
              "    .dataframe tbody tr th {\n",
              "        vertical-align: top;\n",
              "    }\n",
              "\n",
              "    .dataframe thead th {\n",
              "        text-align: right;\n",
              "    }\n",
              "</style>\n",
              "<table border=\"1\" class=\"dataframe\">\n",
              "  <thead>\n",
              "    <tr style=\"text-align: right;\">\n",
              "      <th></th>\n",
              "      <th>Course</th>\n",
              "      <th>respID</th>\n",
              "      <th>Gender</th>\n",
              "      <th>Major</th>\n",
              "      <th>Qual1</th>\n",
              "    </tr>\n",
              "  </thead>\n",
              "  <tbody>\n",
              "    <tr>\n",
              "      <th>0</th>\n",
              "      <td>DV8W1</td>\n",
              "      <td>R_2V4HVjpRNeBqfEp</td>\n",
              "      <td>Female</td>\n",
              "      <td>MAc</td>\n",
              "      <td>Clear and constructive feedbacks to students</td>\n",
              "    </tr>\n",
              "    <tr>\n",
              "      <th>1</th>\n",
              "      <td>DV8W1</td>\n",
              "      <td>R_1l4VqSkutvDiMTr</td>\n",
              "      <td>Male</td>\n",
              "      <td>MBA</td>\n",
              "      <td>Approachability</td>\n",
              "    </tr>\n",
              "    <tr>\n",
              "      <th>2</th>\n",
              "      <td>DV8W1</td>\n",
              "      <td>R_bBi4hjtj0HppHR7</td>\n",
              "      <td>Male</td>\n",
              "      <td>MBA</td>\n",
              "      <td>Industry experience, relatability, ability to ...</td>\n",
              "    </tr>\n",
              "    <tr>\n",
              "      <th>3</th>\n",
              "      <td>DV8W1</td>\n",
              "      <td>R_7aGVw7TI2zRmdLr</td>\n",
              "      <td>Female</td>\n",
              "      <td>MAc</td>\n",
              "      <td>Easy classroom feels - I feel comfortable aski...</td>\n",
              "    </tr>\n",
              "    <tr>\n",
              "      <th>4</th>\n",
              "      <td>DV8W1</td>\n",
              "      <td>R_3kG5KKRLhKCnkdd</td>\n",
              "      <td>Female</td>\n",
              "      <td>MS-SCM</td>\n",
              "      <td>Cares about the subject, interesting</td>\n",
              "    </tr>\n",
              "  </tbody>\n",
              "</table>\n",
              "</div>\n",
              "      <button class=\"colab-df-convert\" onclick=\"convertToInteractive('df-6ff5424f-411c-48c8-bbd5-9df4d5d9c31d')\"\n",
              "              title=\"Convert this dataframe to an interactive table.\"\n",
              "              style=\"display:none;\">\n",
              "\n",
              "  <svg xmlns=\"http://www.w3.org/2000/svg\" height=\"24px\"viewBox=\"0 0 24 24\"\n",
              "       width=\"24px\">\n",
              "    <path d=\"M0 0h24v24H0V0z\" fill=\"none\"/>\n",
              "    <path d=\"M18.56 5.44l.94 2.06.94-2.06 2.06-.94-2.06-.94-.94-2.06-.94 2.06-2.06.94zm-11 1L8.5 8.5l.94-2.06 2.06-.94-2.06-.94L8.5 2.5l-.94 2.06-2.06.94zm10 10l.94 2.06.94-2.06 2.06-.94-2.06-.94-.94-2.06-.94 2.06-2.06.94z\"/><path d=\"M17.41 7.96l-1.37-1.37c-.4-.4-.92-.59-1.43-.59-.52 0-1.04.2-1.43.59L10.3 9.45l-7.72 7.72c-.78.78-.78 2.05 0 2.83L4 21.41c.39.39.9.59 1.41.59.51 0 1.02-.2 1.41-.59l7.78-7.78 2.81-2.81c.8-.78.8-2.07 0-2.86zM5.41 20L4 18.59l7.72-7.72 1.47 1.35L5.41 20z\"/>\n",
              "  </svg>\n",
              "      </button>\n",
              "\n",
              "\n",
              "\n",
              "    <div id=\"df-48ea0ec0-7ca5-4ac7-a5a2-75202c161f93\">\n",
              "      <button class=\"colab-df-quickchart\" onclick=\"quickchart('df-48ea0ec0-7ca5-4ac7-a5a2-75202c161f93')\"\n",
              "              title=\"Suggest charts.\"\n",
              "              style=\"display:none;\">\n",
              "\n",
              "<svg xmlns=\"http://www.w3.org/2000/svg\" height=\"24px\"viewBox=\"0 0 24 24\"\n",
              "     width=\"24px\">\n",
              "    <g>\n",
              "        <path d=\"M19 3H5c-1.1 0-2 .9-2 2v14c0 1.1.9 2 2 2h14c1.1 0 2-.9 2-2V5c0-1.1-.9-2-2-2zM9 17H7v-7h2v7zm4 0h-2V7h2v10zm4 0h-2v-4h2v4z\"/>\n",
              "    </g>\n",
              "</svg>\n",
              "      </button>\n",
              "    </div>\n",
              "\n",
              "<style>\n",
              "  .colab-df-quickchart {\n",
              "    background-color: #E8F0FE;\n",
              "    border: none;\n",
              "    border-radius: 50%;\n",
              "    cursor: pointer;\n",
              "    display: none;\n",
              "    fill: #1967D2;\n",
              "    height: 32px;\n",
              "    padding: 0 0 0 0;\n",
              "    width: 32px;\n",
              "  }\n",
              "\n",
              "  .colab-df-quickchart:hover {\n",
              "    background-color: #E2EBFA;\n",
              "    box-shadow: 0px 1px 2px rgba(60, 64, 67, 0.3), 0px 1px 3px 1px rgba(60, 64, 67, 0.15);\n",
              "    fill: #174EA6;\n",
              "  }\n",
              "\n",
              "  [theme=dark] .colab-df-quickchart {\n",
              "    background-color: #3B4455;\n",
              "    fill: #D2E3FC;\n",
              "  }\n",
              "\n",
              "  [theme=dark] .colab-df-quickchart:hover {\n",
              "    background-color: #434B5C;\n",
              "    box-shadow: 0px 1px 3px 1px rgba(0, 0, 0, 0.15);\n",
              "    filter: drop-shadow(0px 1px 2px rgba(0, 0, 0, 0.3));\n",
              "    fill: #FFFFFF;\n",
              "  }\n",
              "</style>\n",
              "\n",
              "    <script>\n",
              "      async function quickchart(key) {\n",
              "        const containerElement = document.querySelector('#' + key);\n",
              "        const charts = await google.colab.kernel.invokeFunction(\n",
              "            'suggestCharts', [key], {});\n",
              "      }\n",
              "    </script>\n",
              "\n",
              "      <script>\n",
              "\n",
              "function displayQuickchartButton(domScope) {\n",
              "  let quickchartButtonEl =\n",
              "    domScope.querySelector('#df-48ea0ec0-7ca5-4ac7-a5a2-75202c161f93 button.colab-df-quickchart');\n",
              "  quickchartButtonEl.style.display =\n",
              "    google.colab.kernel.accessAllowed ? 'block' : 'none';\n",
              "}\n",
              "\n",
              "        displayQuickchartButton(document);\n",
              "      </script>\n",
              "      <style>\n",
              "    .colab-df-container {\n",
              "      display:flex;\n",
              "      flex-wrap:wrap;\n",
              "      gap: 12px;\n",
              "    }\n",
              "\n",
              "    .colab-df-convert {\n",
              "      background-color: #E8F0FE;\n",
              "      border: none;\n",
              "      border-radius: 50%;\n",
              "      cursor: pointer;\n",
              "      display: none;\n",
              "      fill: #1967D2;\n",
              "      height: 32px;\n",
              "      padding: 0 0 0 0;\n",
              "      width: 32px;\n",
              "    }\n",
              "\n",
              "    .colab-df-convert:hover {\n",
              "      background-color: #E2EBFA;\n",
              "      box-shadow: 0px 1px 2px rgba(60, 64, 67, 0.3), 0px 1px 3px 1px rgba(60, 64, 67, 0.15);\n",
              "      fill: #174EA6;\n",
              "    }\n",
              "\n",
              "    [theme=dark] .colab-df-convert {\n",
              "      background-color: #3B4455;\n",
              "      fill: #D2E3FC;\n",
              "    }\n",
              "\n",
              "    [theme=dark] .colab-df-convert:hover {\n",
              "      background-color: #434B5C;\n",
              "      box-shadow: 0px 1px 3px 1px rgba(0, 0, 0, 0.15);\n",
              "      filter: drop-shadow(0px 1px 2px rgba(0, 0, 0, 0.3));\n",
              "      fill: #FFFFFF;\n",
              "    }\n",
              "  </style>\n",
              "\n",
              "      <script>\n",
              "        const buttonEl =\n",
              "          document.querySelector('#df-6ff5424f-411c-48c8-bbd5-9df4d5d9c31d button.colab-df-convert');\n",
              "        buttonEl.style.display =\n",
              "          google.colab.kernel.accessAllowed ? 'block' : 'none';\n",
              "\n",
              "        async function convertToInteractive(key) {\n",
              "          const element = document.querySelector('#df-6ff5424f-411c-48c8-bbd5-9df4d5d9c31d');\n",
              "          const dataTable =\n",
              "            await google.colab.kernel.invokeFunction('convertToInteractive',\n",
              "                                                     [key], {});\n",
              "          if (!dataTable) return;\n",
              "\n",
              "          const docLinkHtml = 'Like what you see? Visit the ' +\n",
              "            '<a target=\"_blank\" href=https://colab.research.google.com/notebooks/data_table.ipynb>data table notebook</a>'\n",
              "            + ' to learn more about interactive tables.';\n",
              "          element.innerHTML = '';\n",
              "          dataTable['output_type'] = 'display_data';\n",
              "          await google.colab.output.renderOutput(dataTable, element);\n",
              "          const docLink = document.createElement('div');\n",
              "          docLink.innerHTML = docLinkHtml;\n",
              "          element.appendChild(docLink);\n",
              "        }\n",
              "      </script>\n",
              "    </div>\n",
              "  </div>\n"
            ]
          },
          "metadata": {},
          "execution_count": 36
        }
      ]
    },
    {
      "cell_type": "code",
      "source": [
        "# subset courses data viz & stat mod course\n",
        "data_viz = df[df[\"Course\"].isin([\"DV8W1\"])]\n",
        "stat_mod = df[df[\"Course\"].isin([\"SM8W1\"])]"
      ],
      "metadata": {
        "id": "O0uDpL7ZX-ud"
      },
      "execution_count": null,
      "outputs": []
    },
    {
      "cell_type": "code",
      "source": [
        "# Download vader_lexicon\n",
        "nltk.download('vader_lexicon')\n",
        "\n",
        "# Instantiate the sentiment analyzer\n",
        "sid = SentimentIntensityAnalyzer()\n",
        "\n",
        "df['scores'] = df['Qual1'].apply(lambda Qual1: sid.polarity_scores(Qual1))\n",
        "df.head()\n"
      ],
      "metadata": {
        "colab": {
          "base_uri": "https://localhost:8080/",
          "height": 241
        },
        "id": "8wXcqNd9YKz3",
        "outputId": "c19c9edc-cc5a-46bd-f8ca-618264408630"
      },
      "execution_count": null,
      "outputs": [
        {
          "output_type": "stream",
          "name": "stderr",
          "text": [
            "[nltk_data] Downloading package vader_lexicon to /root/nltk_data...\n",
            "[nltk_data]   Package vader_lexicon is already up-to-date!\n"
          ]
        },
        {
          "output_type": "execute_result",
          "data": {
            "text/plain": [
              "  Course             respID  Gender   Major  \\\n",
              "0  DV8W1  R_2V4HVjpRNeBqfEp  Female     MAc   \n",
              "1  DV8W1  R_1l4VqSkutvDiMTr    Male     MBA   \n",
              "2  DV8W1  R_bBi4hjtj0HppHR7    Male     MBA   \n",
              "3  DV8W1  R_7aGVw7TI2zRmdLr  Female     MAc   \n",
              "4  DV8W1  R_3kG5KKRLhKCnkdd  Female  MS-SCM   \n",
              "\n",
              "                                               Qual1  \\\n",
              "0       Clear and constructive feedbacks to students   \n",
              "1                                    Approachability   \n",
              "2  Industry experience, relatability, ability to ...   \n",
              "3  Easy classroom feels - I feel comfortable aski...   \n",
              "4               Cares about the subject, interesting   \n",
              "\n",
              "                                              scores  \n",
              "0  {'neg': 0.0, 'neu': 0.658, 'pos': 0.342, 'comp...  \n",
              "1  {'neg': 0.0, 'neu': 1.0, 'pos': 0.0, 'compound...  \n",
              "2  {'neg': 0.0, 'neu': 0.529, 'pos': 0.471, 'comp...  \n",
              "3  {'neg': 0.0, 'neu': 0.674, 'pos': 0.326, 'comp...  \n",
              "4  {'neg': 0.0, 'neu': 0.345, 'pos': 0.655, 'comp...  "
            ],
            "text/html": [
              "\n",
              "\n",
              "  <div id=\"df-b17c79f2-8e5a-4efb-a704-459543e6d27b\">\n",
              "    <div class=\"colab-df-container\">\n",
              "      <div>\n",
              "<style scoped>\n",
              "    .dataframe tbody tr th:only-of-type {\n",
              "        vertical-align: middle;\n",
              "    }\n",
              "\n",
              "    .dataframe tbody tr th {\n",
              "        vertical-align: top;\n",
              "    }\n",
              "\n",
              "    .dataframe thead th {\n",
              "        text-align: right;\n",
              "    }\n",
              "</style>\n",
              "<table border=\"1\" class=\"dataframe\">\n",
              "  <thead>\n",
              "    <tr style=\"text-align: right;\">\n",
              "      <th></th>\n",
              "      <th>Course</th>\n",
              "      <th>respID</th>\n",
              "      <th>Gender</th>\n",
              "      <th>Major</th>\n",
              "      <th>Qual1</th>\n",
              "      <th>scores</th>\n",
              "    </tr>\n",
              "  </thead>\n",
              "  <tbody>\n",
              "    <tr>\n",
              "      <th>0</th>\n",
              "      <td>DV8W1</td>\n",
              "      <td>R_2V4HVjpRNeBqfEp</td>\n",
              "      <td>Female</td>\n",
              "      <td>MAc</td>\n",
              "      <td>Clear and constructive feedbacks to students</td>\n",
              "      <td>{'neg': 0.0, 'neu': 0.658, 'pos': 0.342, 'comp...</td>\n",
              "    </tr>\n",
              "    <tr>\n",
              "      <th>1</th>\n",
              "      <td>DV8W1</td>\n",
              "      <td>R_1l4VqSkutvDiMTr</td>\n",
              "      <td>Male</td>\n",
              "      <td>MBA</td>\n",
              "      <td>Approachability</td>\n",
              "      <td>{'neg': 0.0, 'neu': 1.0, 'pos': 0.0, 'compound...</td>\n",
              "    </tr>\n",
              "    <tr>\n",
              "      <th>2</th>\n",
              "      <td>DV8W1</td>\n",
              "      <td>R_bBi4hjtj0HppHR7</td>\n",
              "      <td>Male</td>\n",
              "      <td>MBA</td>\n",
              "      <td>Industry experience, relatability, ability to ...</td>\n",
              "      <td>{'neg': 0.0, 'neu': 0.529, 'pos': 0.471, 'comp...</td>\n",
              "    </tr>\n",
              "    <tr>\n",
              "      <th>3</th>\n",
              "      <td>DV8W1</td>\n",
              "      <td>R_7aGVw7TI2zRmdLr</td>\n",
              "      <td>Female</td>\n",
              "      <td>MAc</td>\n",
              "      <td>Easy classroom feels - I feel comfortable aski...</td>\n",
              "      <td>{'neg': 0.0, 'neu': 0.674, 'pos': 0.326, 'comp...</td>\n",
              "    </tr>\n",
              "    <tr>\n",
              "      <th>4</th>\n",
              "      <td>DV8W1</td>\n",
              "      <td>R_3kG5KKRLhKCnkdd</td>\n",
              "      <td>Female</td>\n",
              "      <td>MS-SCM</td>\n",
              "      <td>Cares about the subject, interesting</td>\n",
              "      <td>{'neg': 0.0, 'neu': 0.345, 'pos': 0.655, 'comp...</td>\n",
              "    </tr>\n",
              "  </tbody>\n",
              "</table>\n",
              "</div>\n",
              "      <button class=\"colab-df-convert\" onclick=\"convertToInteractive('df-b17c79f2-8e5a-4efb-a704-459543e6d27b')\"\n",
              "              title=\"Convert this dataframe to an interactive table.\"\n",
              "              style=\"display:none;\">\n",
              "\n",
              "  <svg xmlns=\"http://www.w3.org/2000/svg\" height=\"24px\"viewBox=\"0 0 24 24\"\n",
              "       width=\"24px\">\n",
              "    <path d=\"M0 0h24v24H0V0z\" fill=\"none\"/>\n",
              "    <path d=\"M18.56 5.44l.94 2.06.94-2.06 2.06-.94-2.06-.94-.94-2.06-.94 2.06-2.06.94zm-11 1L8.5 8.5l.94-2.06 2.06-.94-2.06-.94L8.5 2.5l-.94 2.06-2.06.94zm10 10l.94 2.06.94-2.06 2.06-.94-2.06-.94-.94-2.06-.94 2.06-2.06.94z\"/><path d=\"M17.41 7.96l-1.37-1.37c-.4-.4-.92-.59-1.43-.59-.52 0-1.04.2-1.43.59L10.3 9.45l-7.72 7.72c-.78.78-.78 2.05 0 2.83L4 21.41c.39.39.9.59 1.41.59.51 0 1.02-.2 1.41-.59l7.78-7.78 2.81-2.81c.8-.78.8-2.07 0-2.86zM5.41 20L4 18.59l7.72-7.72 1.47 1.35L5.41 20z\"/>\n",
              "  </svg>\n",
              "      </button>\n",
              "\n",
              "\n",
              "\n",
              "    <div id=\"df-59524120-ed00-457c-8651-053bf062712c\">\n",
              "      <button class=\"colab-df-quickchart\" onclick=\"quickchart('df-59524120-ed00-457c-8651-053bf062712c')\"\n",
              "              title=\"Suggest charts.\"\n",
              "              style=\"display:none;\">\n",
              "\n",
              "<svg xmlns=\"http://www.w3.org/2000/svg\" height=\"24px\"viewBox=\"0 0 24 24\"\n",
              "     width=\"24px\">\n",
              "    <g>\n",
              "        <path d=\"M19 3H5c-1.1 0-2 .9-2 2v14c0 1.1.9 2 2 2h14c1.1 0 2-.9 2-2V5c0-1.1-.9-2-2-2zM9 17H7v-7h2v7zm4 0h-2V7h2v10zm4 0h-2v-4h2v4z\"/>\n",
              "    </g>\n",
              "</svg>\n",
              "      </button>\n",
              "    </div>\n",
              "\n",
              "<style>\n",
              "  .colab-df-quickchart {\n",
              "    background-color: #E8F0FE;\n",
              "    border: none;\n",
              "    border-radius: 50%;\n",
              "    cursor: pointer;\n",
              "    display: none;\n",
              "    fill: #1967D2;\n",
              "    height: 32px;\n",
              "    padding: 0 0 0 0;\n",
              "    width: 32px;\n",
              "  }\n",
              "\n",
              "  .colab-df-quickchart:hover {\n",
              "    background-color: #E2EBFA;\n",
              "    box-shadow: 0px 1px 2px rgba(60, 64, 67, 0.3), 0px 1px 3px 1px rgba(60, 64, 67, 0.15);\n",
              "    fill: #174EA6;\n",
              "  }\n",
              "\n",
              "  [theme=dark] .colab-df-quickchart {\n",
              "    background-color: #3B4455;\n",
              "    fill: #D2E3FC;\n",
              "  }\n",
              "\n",
              "  [theme=dark] .colab-df-quickchart:hover {\n",
              "    background-color: #434B5C;\n",
              "    box-shadow: 0px 1px 3px 1px rgba(0, 0, 0, 0.15);\n",
              "    filter: drop-shadow(0px 1px 2px rgba(0, 0, 0, 0.3));\n",
              "    fill: #FFFFFF;\n",
              "  }\n",
              "</style>\n",
              "\n",
              "    <script>\n",
              "      async function quickchart(key) {\n",
              "        const containerElement = document.querySelector('#' + key);\n",
              "        const charts = await google.colab.kernel.invokeFunction(\n",
              "            'suggestCharts', [key], {});\n",
              "      }\n",
              "    </script>\n",
              "\n",
              "      <script>\n",
              "\n",
              "function displayQuickchartButton(domScope) {\n",
              "  let quickchartButtonEl =\n",
              "    domScope.querySelector('#df-59524120-ed00-457c-8651-053bf062712c button.colab-df-quickchart');\n",
              "  quickchartButtonEl.style.display =\n",
              "    google.colab.kernel.accessAllowed ? 'block' : 'none';\n",
              "}\n",
              "\n",
              "        displayQuickchartButton(document);\n",
              "      </script>\n",
              "      <style>\n",
              "    .colab-df-container {\n",
              "      display:flex;\n",
              "      flex-wrap:wrap;\n",
              "      gap: 12px;\n",
              "    }\n",
              "\n",
              "    .colab-df-convert {\n",
              "      background-color: #E8F0FE;\n",
              "      border: none;\n",
              "      border-radius: 50%;\n",
              "      cursor: pointer;\n",
              "      display: none;\n",
              "      fill: #1967D2;\n",
              "      height: 32px;\n",
              "      padding: 0 0 0 0;\n",
              "      width: 32px;\n",
              "    }\n",
              "\n",
              "    .colab-df-convert:hover {\n",
              "      background-color: #E2EBFA;\n",
              "      box-shadow: 0px 1px 2px rgba(60, 64, 67, 0.3), 0px 1px 3px 1px rgba(60, 64, 67, 0.15);\n",
              "      fill: #174EA6;\n",
              "    }\n",
              "\n",
              "    [theme=dark] .colab-df-convert {\n",
              "      background-color: #3B4455;\n",
              "      fill: #D2E3FC;\n",
              "    }\n",
              "\n",
              "    [theme=dark] .colab-df-convert:hover {\n",
              "      background-color: #434B5C;\n",
              "      box-shadow: 0px 1px 3px 1px rgba(0, 0, 0, 0.15);\n",
              "      filter: drop-shadow(0px 1px 2px rgba(0, 0, 0, 0.3));\n",
              "      fill: #FFFFFF;\n",
              "    }\n",
              "  </style>\n",
              "\n",
              "      <script>\n",
              "        const buttonEl =\n",
              "          document.querySelector('#df-b17c79f2-8e5a-4efb-a704-459543e6d27b button.colab-df-convert');\n",
              "        buttonEl.style.display =\n",
              "          google.colab.kernel.accessAllowed ? 'block' : 'none';\n",
              "\n",
              "        async function convertToInteractive(key) {\n",
              "          const element = document.querySelector('#df-b17c79f2-8e5a-4efb-a704-459543e6d27b');\n",
              "          const dataTable =\n",
              "            await google.colab.kernel.invokeFunction('convertToInteractive',\n",
              "                                                     [key], {});\n",
              "          if (!dataTable) return;\n",
              "\n",
              "          const docLinkHtml = 'Like what you see? Visit the ' +\n",
              "            '<a target=\"_blank\" href=https://colab.research.google.com/notebooks/data_table.ipynb>data table notebook</a>'\n",
              "            + ' to learn more about interactive tables.';\n",
              "          element.innerHTML = '';\n",
              "          dataTable['output_type'] = 'display_data';\n",
              "          await google.colab.output.renderOutput(dataTable, element);\n",
              "          const docLink = document.createElement('div');\n",
              "          docLink.innerHTML = docLinkHtml;\n",
              "          element.appendChild(docLink);\n",
              "        }\n",
              "      </script>\n",
              "    </div>\n",
              "  </div>\n"
            ]
          },
          "metadata": {},
          "execution_count": 38
        }
      ]
    },
    {
      "cell_type": "code",
      "source": [
        "df['compound'] = df['scores'].apply(lambda score_dict: score_dict['compound'])\n",
        "df['sentiment_type']=''\n",
        "df.loc[df.compound>0, 'sentiment_type']='POSITIVE'\n",
        "df.loc[df.compound==0, 'sentiment_type']='NEUTRAL'\n",
        "df.loc[df.compound<0, 'sentiment_type']='NEGATIVE'\n",
        "print(df)"
      ],
      "metadata": {
        "colab": {
          "base_uri": "https://localhost:8080/"
        },
        "id": "yQxHJgKlX6L2",
        "outputId": "8549c778-9242-4c31-99a5-87a2799a9b93"
      },
      "execution_count": null,
      "outputs": [
        {
          "output_type": "stream",
          "name": "stdout",
          "text": [
            "   Course             respID  Gender    Major  \\\n",
            "0   DV8W1  R_2V4HVjpRNeBqfEp  Female      MAc   \n",
            "1   DV8W1  R_1l4VqSkutvDiMTr    Male      MBA   \n",
            "2   DV8W1  R_bBi4hjtj0HppHR7    Male      MBA   \n",
            "3   DV8W1  R_7aGVw7TI2zRmdLr  Female      MAc   \n",
            "4   DV8W1  R_3kG5KKRLhKCnkdd  Female   MS-SCM   \n",
            "5   DV8W1  R_30dA5xSTo0RyzEe  Female      MBA   \n",
            "6   DV8W1  R_e3ejEBGYMlMnLW1    Male   MBA-SC   \n",
            "7   DV8W1  R_1pS9fByy5yiU6YX  Female   MBA-SC   \n",
            "8   DV8W1  R_ehBJmR4WVVttmNP  Female      MAc   \n",
            "9   DV8W1  R_UgTA26Jmkab5gRj    Male   MS-SCM   \n",
            "10  DV8W1  R_25sBa47PDWQQqzs  Female      MBA   \n",
            "11  DV8W1  R_3neIDncADfqN526    Male      MAc   \n",
            "12  DV8W1  R_2WBiYH66CsFC3Wd  Female   MS-SCM   \n",
            "13  DV8W1  R_1QmjmFUp0085YSS    Male   MBA-BM   \n",
            "14  DV8W1  R_2BaMfDzqLI5BVwL    Male      MBA   \n",
            "15  DV8W1  R_2X04reT4AS0uFoB  Female  MBA-Fin   \n",
            "16  DV8W1  R_sBWvavJR7dfk8CJ  Female      MBA   \n",
            "17  DV8W1  R_3oBJcw0IkJqImyE    Male      MAc   \n",
            "18  DV8W1  R_1Edrob3NIHjdHy8    Male   MBA-SC   \n",
            "19  DV8W1  R_2eQEd0VL4U9BbYI  Female   MS-SCM   \n",
            "20  SM8W1  R_3fqIDj6g6hItOUe  Female   MS-SCM   \n",
            "21  SM8W1  R_1BXSRoKss7p88qd    Male   MS-SCM   \n",
            "22  SM8W1  R_O8bbylnGIEjsWSB  Female      MAc   \n",
            "23  SM8W1  R_2bWzZAUNxblhYca    Male      MBA   \n",
            "24  SM8W1  R_1dgYGZUTiY859ss    Male      MAc   \n",
            "25  SM8W1  R_2dW8WnNC4zjEg40    Male      MAc   \n",
            "26  SM8W1  R_2dxSXj91ESRTi1j    Male   MS-SCM   \n",
            "27  SM8W1  R_2WOwXEKLorgMx7Q    Male      MAc   \n",
            "28  SM8W1  R_1Ca1LO8MkxH2jKX    Male      MAc   \n",
            "29  SM8W1  R_240iMeCwlJWYPgm    Male    MBA-E   \n",
            "30  SM8W1  R_UA72jXJhUBPbrlT    Male      MAc   \n",
            "31  SM8W1  R_3JqhJo3MBYAhshB    Male      MAc   \n",
            "32  SM8W1  R_32Q1PQvHkVaA7F3    Male      MAc   \n",
            "\n",
            "                                                Qual1  \\\n",
            "0        Clear and constructive feedbacks to students   \n",
            "1                                     Approachability   \n",
            "2   Industry experience, relatability, ability to ...   \n",
            "3   Easy classroom feels - I feel comfortable aski...   \n",
            "4                Cares about the subject, interesting   \n",
            "5   He replies to our messages REALLY fast! This i...   \n",
            "6                            Personable and relatable   \n",
            "7                                   care for students   \n",
            "8                   Very responsive outside of class!   \n",
            "9                                  Industry knowledge   \n",
            "10          Communication, flexibility, consideration   \n",
            "11  Very personable. Lots of anecdotes and example...   \n",
            "12  Data knowledge, Presentation and flexibility w...   \n",
            "13  Instructor is engaging. I put off taking this ...   \n",
            "14        down to earth, knowledge of topic at hand\\n   \n",
            "15  Interactive, understanding, great storyteller,...   \n",
            "16  Power points are great and exercises were comp...   \n",
            "17                    Entertaining and knowledgable\\n   \n",
            "18  his expertise in the content and helping attit...   \n",
            "19                    Knowledge of the subject matter   \n",
            "20  Knowledgeable, dependable, and passionate are ...   \n",
            "21  Insight on how models and concepts can be appl...   \n",
            "22                         Knowledge and passionate\\n   \n",
            "23  Knowledge, making new or difficult concepts ea...   \n",
            "24  This instructor does a good job showing exampl...   \n",
            "25  knowledge on the content, willingness to answe...   \n",
            "26  Creating handouts to explain in greater detail...   \n",
            "27  very friendly and well intentioned.  wants all...   \n",
            "28                                      He is helpful   \n",
            "29  He relates to the students and communicates in...   \n",
            "30                                            No clue   \n",
            "31                       energetic and entertaining\\n   \n",
            "32  Knowledge. Communication quantity. Responsiven...   \n",
            "\n",
            "                                               scores  compound sentiment_type  \n",
            "0   {'neg': 0.0, 'neu': 0.658, 'pos': 0.342, 'comp...    0.3818       POSITIVE  \n",
            "1   {'neg': 0.0, 'neu': 1.0, 'pos': 0.0, 'compound...    0.0000        NEUTRAL  \n",
            "2   {'neg': 0.0, 'neu': 0.529, 'pos': 0.471, 'comp...    0.7906       POSITIVE  \n",
            "3   {'neg': 0.0, 'neu': 0.674, 'pos': 0.326, 'comp...    0.8271       POSITIVE  \n",
            "4   {'neg': 0.0, 'neu': 0.345, 'pos': 0.655, 'comp...    0.6908       POSITIVE  \n",
            "5   {'neg': 0.0, 'neu': 0.827, 'pos': 0.173, 'comp...    0.6588       POSITIVE  \n",
            "6   {'neg': 0.0, 'neu': 1.0, 'pos': 0.0, 'compound...    0.0000        NEUTRAL  \n",
            "7   {'neg': 0.0, 'neu': 0.385, 'pos': 0.615, 'comp...    0.4939       POSITIVE  \n",
            "8   {'neg': 0.0, 'neu': 0.565, 'pos': 0.435, 'comp...    0.4740       POSITIVE  \n",
            "9   {'neg': 0.0, 'neu': 1.0, 'pos': 0.0, 'compound...    0.0000        NEUTRAL  \n",
            "10  {'neg': 0.0, 'neu': 0.455, 'pos': 0.545, 'comp...    0.3400       POSITIVE  \n",
            "11  {'neg': 0.0, 'neu': 0.803, 'pos': 0.197, 'comp...    0.4019       POSITIVE  \n",
            "12  {'neg': 0.0, 'neu': 0.789, 'pos': 0.211, 'comp...    0.3400       POSITIVE  \n",
            "13  {'neg': 0.049, 'neu': 0.679, 'pos': 0.273, 'co...    0.8899       POSITIVE  \n",
            "14  {'neg': 0.0, 'neu': 0.686, 'pos': 0.314, 'comp...    0.4939       POSITIVE  \n",
            "15  {'neg': 0.0, 'neu': 0.594, 'pos': 0.406, 'comp...    0.6249       POSITIVE  \n",
            "16  {'neg': 0.0, 'neu': 0.496, 'pos': 0.504, 'comp...    0.7269       POSITIVE  \n",
            "17  {'neg': 0.0, 'neu': 0.408, 'pos': 0.592, 'comp...    0.4404       POSITIVE  \n",
            "18  {'neg': 0.0, 'neu': 0.761, 'pos': 0.239, 'comp...    0.2960       POSITIVE  \n",
            "19  {'neg': 0.0, 'neu': 0.784, 'pos': 0.216, 'comp...    0.0258       POSITIVE  \n",
            "20  {'neg': 0.0, 'neu': 0.74, 'pos': 0.26, 'compou...    0.8316       POSITIVE  \n",
            "21  {'neg': 0.0, 'neu': 1.0, 'pos': 0.0, 'compound...    0.0000        NEUTRAL  \n",
            "22  {'neg': 0.0, 'neu': 0.37, 'pos': 0.63, 'compou...    0.5267       POSITIVE  \n",
            "23  {'neg': 0.203, 'neu': 0.569, 'pos': 0.228, 'co...    0.0772       POSITIVE  \n",
            "24  {'neg': 0.0, 'neu': 0.879, 'pos': 0.121, 'comp...    0.4404       POSITIVE  \n",
            "25  {'neg': 0.0, 'neu': 0.625, 'pos': 0.375, 'comp...    0.5859       POSITIVE  \n",
            "26  {'neg': 0.0, 'neu': 0.749, 'pos': 0.251, 'comp...    0.5719       POSITIVE  \n",
            "27  {'neg': 0.0, 'neu': 0.549, 'pos': 0.451, 'comp...    0.8031       POSITIVE  \n",
            "28  {'neg': 0.0, 'neu': 0.417, 'pos': 0.583, 'comp...    0.4215       POSITIVE  \n",
            "29  {'neg': 0.0, 'neu': 1.0, 'pos': 0.0, 'compound...    0.0000        NEUTRAL  \n",
            "30  {'neg': 0.688, 'neu': 0.312, 'pos': 0.0, 'comp...   -0.2960       NEGATIVE  \n",
            "31  {'neg': 0.0, 'neu': 0.147, 'pos': 0.853, 'comp...    0.7003       POSITIVE  \n",
            "32  {'neg': 0.0, 'neu': 1.0, 'pos': 0.0, 'compound...    0.0000        NEUTRAL  \n"
          ]
        }
      ]
    },
    {
      "cell_type": "code",
      "source": [],
      "metadata": {
        "id": "mKAJRRPNZk73"
      },
      "execution_count": null,
      "outputs": []
    },
    {
      "cell_type": "markdown",
      "source": [
        "INTERPRETATION:\n",
        "\n",
        "Because VADER is a lexicon and rule-based sentiment analysis tool, it is specifically attuned to sentiments expressed in social media. It gives a score to the sentiment of the text data, which includes four elements: 'neg', 'neu', 'pos', and 'compound'. Here is what they mean:\n",
        "\n",
        "'neg': This is the negative sentiment in a sentence.\n",
        "'neu': This is the neutral sentiment in a sentence.\n",
        "'pos': This is the positive sentiment in a sentence.\n",
        "'compound': The compound score is a metric that calculates the sum of all the lexicon ratings which have been normalized between -1 (most extreme negative) and +1 (most extreme positive).\n",
        "\n",
        "The compound score gives an overall sentiment of the sentence, considering the mixture of the sentiments. It is computed using a mathematical formula which takes into account the above three scores.\n",
        "\n",
        "In your provided code, the 'scores' column in the DataFrame (df) is presumably a dictionary that was created from sentiment analysis. The lambda function in the first line is used to create a new 'compound' column by extracting the 'compound' value from each dictionary in the 'scores' column.\n",
        "\n",
        "Then, the code is creating a new column named 'sentiment_type' which is initially empty. The next three lines are categorizing sentiment based on the 'compound' score:\n",
        "\n",
        "If the 'compound' score is greater than 0, the sentiment is categorized as 'POSITIVE'.\n",
        "\n",
        "If the 'compound' score is equal to 0, the sentiment is categorized as 'NEUTRAL'.\n",
        "\n",
        "If the 'compound' score is less than 0, the sentiment is categorized as 'NEGATIVE'."
      ],
      "metadata": {
        "id": "3bcVT3MzZli_"
      }
    },
    {
      "cell_type": "code",
      "source": [
        "df.sentiment_type.value_counts().plot(kind='bar', title=\"Sentiment Analysis\")"
      ],
      "metadata": {
        "colab": {
          "base_uri": "https://localhost:8080/",
          "height": 524
        },
        "id": "yFS7bJ7AY-er",
        "outputId": "f67e5909-6c77-4c1b-81bc-b2ff6c52ab0d"
      },
      "execution_count": null,
      "outputs": [
        {
          "output_type": "execute_result",
          "data": {
            "text/plain": [
              "<Axes: title={'center': 'Sentiment Analysis'}>"
            ]
          },
          "metadata": {},
          "execution_count": 41
        },
        {
          "output_type": "display_data",
          "data": {
            "text/plain": [
              "<Figure size 640x480 with 1 Axes>"
            ],
            "image/png": "[encoded data removed]"
          },
          "metadata": {}
        }
      ]
    },
    {
      "cell_type": "markdown",
      "source": [
        "## TextBlob"
      ],
      "metadata": {
        "id": "YBfOE-EvPWrM"
      }
    },
    {
      "cell_type": "markdown",
      "source": [
        "For sentiment analysis, TextBlob uses a pre-trained machine learning model to classify text as either positive, negative, or neutral. Here's how TextBlob's sentiment analysis works:\n",
        "\n",
        "Polarity: This is a floating-point number that lies in the range [-1,1], where 1 means positive sentiment and -1 means a negative sentiment. TextBlob calculates the polarity by taking the average sentiment of all words in the text that are found in its sentiment lexicon. Each word in the lexicon has been human-annotated with a sentiment polarity.\n",
        "\n",
        "Subjectivity: This is also a floating-point number that lies in the range [0,1]. Subjectivity quantifies the amount of personal opinion and factual information contained in the text. The higher subjectivity means that the text contains personal opinion rather than factual information. TextBlob follows the same approach for calculating subjectivity: it takes the average subjectivity of the sentiment-laden words in the text."
      ],
      "metadata": {
        "id": "HA3DJcV1TyXZ"
      }
    },
    {
      "cell_type": "code",
      "source": [
        "# Load library\n",
        "from textblob import TextBlob"
      ],
      "metadata": {
        "id": "hfMnovveJONl"
      },
      "execution_count": null,
      "outputs": []
    },
    {
      "cell_type": "code",
      "source": [
        "text1 = TextBlob (\"The most surprising part of this course was the detailed data munging (data cleaning) that had to be done to get the data ready for use in R. \"\n",
        "\"Great emphasis was placed on not removing data unless there was ample reason to consider it tainted (i., not merely because an attention check was missed or the data point was an outlier). \"\n",
        "\"Additionally, extreme care and impartiality were used when translating open-response (qualitative) data into numerical values R could interpret. \"\n",
        "\"Finally, the opportunity to apply exploratory data analysis to real-world data was such a great learning experience. \"\n",
        "\"Testing variables for normality and comparing data sets with and without observations that missed the attention or effort checks gave me increased familiarity with R coding and graphical interpretation, besides providing valuable insights about the effects of certain flagged observations. \"\n",
        "\"Our team also examined outliers, demographics, and correlations. \"\n",
        "\"Without a doubt, this course has been a valuable and memorable learning experience. \")"
      ],
      "metadata": {
        "id": "5if39uroJWLe"
      },
      "execution_count": null,
      "outputs": []
    },
    {
      "cell_type": "code",
      "source": [
        "text1.sentiment"
      ],
      "metadata": {
        "colab": {
          "base_uri": "https://localhost:8080/"
        },
        "id": "DrRCu2lBJevR",
        "outputId": "63573d3e-e1a4-4550-d3e6-c58ba80dc87a"
      },
      "execution_count": null,
      "outputs": [
        {
          "output_type": "execute_result",
          "data": {
            "text/plain": [
              "Sentiment(polarity=0.35327380952380955, subjectivity=0.6934523809523809)"
            ]
          },
          "metadata": {},
          "execution_count": 10
        }
      ]
    },
    {
      "cell_type": "code",
      "source": [
        "text2 = TextBlob (\"Over the summer, I was able to get hands-on experience in research and data analytics while studying the integration of Slack into higher education. \"\n",
        "\"I was able to apply my introductory knowledge of R to help clean data sets, organize groups of variables, and prepare plots and graphs. \"\n",
        "\"The biggest thing that I learned throughout the course of this summer was the importance of having sound data in the beginning. \"\n",
        "\"Research will eventually fall through and not hold up to statistical testing if it isn’t collected properly. \"\n",
        "\"I also learned that even though it is extremely time-consuming, cleaning the data properly is an essential step in the research process. \"\n",
        "\"Without clean, organized data, you can’t even begin to perform tests or code graphs. \"\n",
        "\"In addition to learning how to properly clean data, I also learned how crucial graphs and plots can be. \"\n",
        "\"A graph is able to take hundreds of seemingly meaningless data points and put them together and tell a story or demonstrate a relationship. \"\n",
        "\"R is an amazing coding language for graphing because of the ggplot2 software in the tidyverse package. \"\n",
        "\"I was able to see firsthand how to create complex QQ plots that integrate different variables, and these graphs helped piece the data together. \"\n",
        "\"Ultimately, this summer showed me that the process of research starts with data, deals with lots of data and ends with trying to demonstrate how that data is correlated. \")"
      ],
      "metadata": {
        "id": "WVz1Qa1DJqK7"
      },
      "execution_count": null,
      "outputs": []
    },
    {
      "cell_type": "code",
      "source": [
        "text2.sentiment"
      ],
      "metadata": {
        "colab": {
          "base_uri": "https://localhost:8080/"
        },
        "id": "QX3mgqP0JvxJ",
        "outputId": "817ab3bb-43c1-4afa-bedb-b0d3ff856aa0"
      },
      "execution_count": null,
      "outputs": [
        {
          "output_type": "execute_result",
          "data": {
            "text/plain": [
              "Sentiment(polarity=0.1902777777777778, subjectivity=0.6555555555555556)"
            ]
          },
          "metadata": {},
          "execution_count": 12
        }
      ]
    }
  ]
}