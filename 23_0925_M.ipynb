{
  "nbformat": 4,
  "nbformat_minor": 0,
  "metadata": {
    "colab": {
      "provenance": [],
      "authorship_tag": "ABX9TyP85xbso0FYvr2d9WyUCBhB",
      "include_colab_link": true
    },
    "kernelspec": {
      "name": "python3",
      "display_name": "Python 3"
    },
    "language_info": {
      "name": "python"
    }
  },
  "cells": [
    {
      "cell_type": "markdown",
      "metadata": {
        "id": "view-in-github",
        "colab_type": "text"
      },
      "source": [
        "<a href=\"https://colab.research.google.com/github/justinbkeeler/2023-NAA-Student/blob/main/23_0925_M.ipynb\" target=\"_parent\"><img src=\"https://colab.research.google.com/assets/colab-badge.svg\" alt=\"Open In Colab\"/></a>"
      ]
    },
    {
      "cell_type": "code",
      "execution_count": 1,
      "metadata": {
        "id": "CJ_v2AYpDUvZ"
      },
      "outputs": [],
      "source": [
        "colors = ['red', 'blue', 'green']"
      ]
    },
    {
      "cell_type": "code",
      "source": [
        "colors[1]"
      ],
      "metadata": {
        "colab": {
          "base_uri": "https://localhost:8080/",
          "height": 35
        },
        "id": "_fYNkAXTGRZ5",
        "outputId": "d521513f-ee04-4bb6-d560-e6967559ef08"
      },
      "execution_count": 2,
      "outputs": [
        {
          "output_type": "execute_result",
          "data": {
            "text/plain": [
              "'blue'"
            ],
            "application/vnd.google.colaboratory.intrinsic+json": {
              "type": "string"
            }
          },
          "metadata": {},
          "execution_count": 2
        }
      ]
    },
    {
      "cell_type": "code",
      "source": [
        "numbers = [0,1,2,3,4,5]"
      ],
      "metadata": {
        "id": "MxNawLJgGT7G"
      },
      "execution_count": 3,
      "outputs": []
    },
    {
      "cell_type": "code",
      "source": [
        "numbers[2]"
      ],
      "metadata": {
        "colab": {
          "base_uri": "https://localhost:8080/"
        },
        "id": "bt6vRMggGgGk",
        "outputId": "aff4836b-2706-476f-8834-c878532a2462"
      },
      "execution_count": 4,
      "outputs": [
        {
          "output_type": "execute_result",
          "data": {
            "text/plain": [
              "2"
            ]
          },
          "metadata": {},
          "execution_count": 4
        }
      ]
    },
    {
      "cell_type": "code",
      "source": [
        "# lists of levels and corresponding colors and concerns\n",
        "levels = [301, 201, 151, 101, 51, 0]\n",
        "colors = ['Maroon', 'Purple', 'Red', 'Orange', 'Yellow', 'Green']\n",
        "concerns = ['Hazardous', 'Very Unhealthy', 'Unhealthy', 'Unhealthy for Sensitive Groups', 'Moderate', 'Good']\n",
        "\n",
        "#input\n",
        "level = int(input('Enter an AQI level (integer): '))\n",
        "\n",
        "for i in range(len(levels)):\n",
        "  if level >= levels[i]:\n",
        "    color = colors[i]\n",
        "    concern = concerns[i]\n",
        "    break\n",
        "\n",
        "print('AQI color:', color)\n",
        "print('AQI concern level:', concern)"
      ],
      "metadata": {
        "colab": {
          "base_uri": "https://localhost:8080/"
        },
        "id": "9z6AgkoFGjlr",
        "outputId": "bfc57a65-4da0-4836-fbf4-c89c423bc959"
      },
      "execution_count": 5,
      "outputs": [
        {
          "output_type": "stream",
          "name": "stdout",
          "text": [
            "Enter an AQI level (integer): 75\n",
            "AQI color: Yellow\n",
            "AQI concern level Moderate\n"
          ]
        }
      ]
    },
    {
      "cell_type": "code",
      "source": [
        "def calcMean(alist):\n",
        "  sum = 0\n",
        "  for value in alist:\n",
        "    sum += value\n",
        "  return sum / len(alist)\n",
        "\n",
        "measures = [10, 10.1, 9.9, 9.6, 10.1, 9.9, 9.8, 9.9, 10.3, 10]\n",
        "mean = calcMean(measures)\n",
        "print('Mean = ', mean)"
      ],
      "metadata": {
        "colab": {
          "base_uri": "https://localhost:8080/"
        },
        "id": "XEPff3xfJbuF",
        "outputId": "327f76fb-23bf-43ed-e096-a1d5741bb57b"
      },
      "execution_count": 7,
      "outputs": [
        {
          "output_type": "stream",
          "name": "stdout",
          "text": [
            "Mean =  9.96\n"
          ]
        }
      ]
    },
    {
      "cell_type": "code",
      "source": [
        "1\n",
        "\n",
        "def Input_meas():\n",
        "    measures = []\n",
        "    while True:\n",
        "            n = int(input(\"Enter the number of measures: \"))\n",
        "            for _ in range(n):\n",
        "                measure = float(input(f\"Enter measure {_ + 1}: \"))\n",
        "                measures.append(measure)\n",
        "            return measures\n",
        "\n",
        "measures = Input_meas()\n",
        "mean = calcMean(measures)\n",
        "print('Mean = ', mean)"
      ],
      "metadata": {
        "colab": {
          "base_uri": "https://localhost:8080/"
        },
        "id": "7vuysklNNxer",
        "outputId": "33533131-a265-4358-870e-c38e7a9c45c8"
      },
      "execution_count": 15,
      "outputs": [
        {
          "output_type": "stream",
          "name": "stdout",
          "text": [
            "Enter the number of measures: 3\n",
            "Enter measure 1: 1\n",
            "Enter measure 2: 2\n",
            "Enter measure 3: 3\n",
            "Mean =  2.0\n"
          ]
        }
      ]
    },
    {
      "cell_type": "code",
      "source": [
        "alist = [1, 4, 9, 16, 25, 30]"
      ],
      "metadata": {
        "id": "XEeJS2KNOgVU"
      },
      "execution_count": 21,
      "outputs": []
    },
    {
      "cell_type": "code",
      "source": [
        "alist[0:3]"
      ],
      "metadata": {
        "colab": {
          "base_uri": "https://localhost:8080/"
        },
        "id": "WUkpjzbqQ_mv",
        "outputId": "d8c3bc41-53bb-4dc9-94a8-362391587557"
      },
      "execution_count": 17,
      "outputs": [
        {
          "output_type": "execute_result",
          "data": {
            "text/plain": [
              "[1, 4, 9]"
            ]
          },
          "metadata": {},
          "execution_count": 17
        }
      ]
    },
    {
      "cell_type": "code",
      "source": [
        "alist[3:]"
      ],
      "metadata": {
        "colab": {
          "base_uri": "https://localhost:8080/"
        },
        "id": "5IUuvfIlRCFM",
        "outputId": "df943da1-cd9c-46a2-a896-0168f6956efd"
      },
      "execution_count": 18,
      "outputs": [
        {
          "output_type": "execute_result",
          "data": {
            "text/plain": [
              "[16, 25]"
            ]
          },
          "metadata": {},
          "execution_count": 18
        }
      ]
    },
    {
      "cell_type": "code",
      "source": [
        "alist[4:]"
      ],
      "metadata": {
        "colab": {
          "base_uri": "https://localhost:8080/"
        },
        "id": "SIq63Y3VRQRP",
        "outputId": "2972e616-9ea4-4df0-9ff3-7ec3b9164dd0"
      },
      "execution_count": 19,
      "outputs": [
        {
          "output_type": "execute_result",
          "data": {
            "text/plain": [
              "[25]"
            ]
          },
          "metadata": {},
          "execution_count": 19
        }
      ]
    },
    {
      "cell_type": "code",
      "source": [
        "alist[0:5:2]"
      ],
      "metadata": {
        "colab": {
          "base_uri": "https://localhost:8080/"
        },
        "id": "Cj7ivRFHRSIC",
        "outputId": "ff539e19-11cd-427f-885a-9b126619c9fc"
      },
      "execution_count": 23,
      "outputs": [
        {
          "output_type": "execute_result",
          "data": {
            "text/plain": [
              "[1, 9, 25]"
            ]
          },
          "metadata": {},
          "execution_count": 23
        }
      ]
    }
  ]
}